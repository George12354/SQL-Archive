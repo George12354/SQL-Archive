{
 "cells": [
  {
   "cell_type": "code",
   "execution_count": 1,
   "id": "fe60851c",
   "metadata": {},
   "outputs": [
    {
     "name": "stderr",
     "output_type": "stream",
     "text": [
      "<>:7: SyntaxWarning: invalid escape sequence '\\S'\n",
      "<>:12: SyntaxWarning: invalid escape sequence '\\S'\n",
      "<>:7: SyntaxWarning: invalid escape sequence '\\S'\n",
      "<>:12: SyntaxWarning: invalid escape sequence '\\S'\n",
      "C:\\Users\\hp\\AppData\\Local\\Temp\\ipykernel_7388\\1829690196.py:7: SyntaxWarning: invalid escape sequence '\\S'\n",
      "  server = 'DESKTOP-9BP0VSB\\SQLEXPRESS'\n",
      "C:\\Users\\hp\\AppData\\Local\\Temp\\ipykernel_7388\\1829690196.py:12: SyntaxWarning: invalid escape sequence '\\S'\n",
      "  SERVER_NAME = 'DESKTOP-9BP0VSB\\SQLEXPRESS'\n"
     ]
    },
    {
     "name": "stdout",
     "output_type": "stream",
     "text": [
      "Successfully imported artist.csv to database\n",
      "Successfully imported canvas_size.csv to database\n",
      "Successfully imported image_link.csv to database\n",
      "Successfully imported museum_hours.csv to database\n",
      "Successfully imported museum.csv to database\n",
      "Successfully imported product_size.csv to database\n",
      "Successfully imported subject.csv to database\n",
      "Successfully imported work.csv to database\n"
     ]
    }
   ],
   "source": [
    "import pandas as pd\n",
    "from sqlalchemy import create_engine\n",
    "from sqlalchemy.engine import URL\n",
    "\n",
    "\n",
    "# Set up connection parameters\n",
    "server = 'DESKTOP-9BP0VSB\\SQLEXPRESS'\n",
    "database = 'KCC'\n",
    "driver = 'ODBC Driver 17 for SQL Server'  # Might need to adjust based on your driver version\n",
    "\n",
    "\n",
    "SERVER_NAME = 'DESKTOP-9BP0VSB\\SQLEXPRESS'\n",
    "DATABASE_NAME = 'KCC'\n",
    "\n",
    "# Create connection string\n",
    "connection_string = f'DRIVER={driver};SERVER={server};DATABASE={database};Trusted_Connection=yes'\n",
    "connection_url = URL.create(\"mssql+pyodbc\", query={\"odbc_connect\": connection_string})\n",
    "\n",
    "\n",
    "# Create engine\n",
    "engine = create_engine(connection_url)\n",
    "\n",
    "# List of CSV filenames (without .csv extension)\n",
    "filenames = ['artist', 'canvas_size', 'image_link', 'museum_hours', 'museum', 'product_size', 'subject', 'work']\n",
    "\n",
    "for filename in filenames:\n",
    "    # Read CSV file\n",
    "    df = pd.read_csv(f'{filename}.csv')  # Added .csv extension\n",
    "        \n",
    "        # Write to SQL Server\n",
    "    df.to_sql(name=filename, con=engine, if_exists='replace', index=False)\n",
    "    print(f'Successfully imported {filename}.csv to database')\n",
    "\n",
    "engine.dispose()    "
   ]
  }
 ],
 "metadata": {
  "kernelspec": {
   "display_name": "Python 3",
   "language": "python",
   "name": "python3"
  },
  "language_info": {
   "codemirror_mode": {
    "name": "ipython",
    "version": 3
   },
   "file_extension": ".py",
   "mimetype": "text/x-python",
   "name": "python",
   "nbconvert_exporter": "python",
   "pygments_lexer": "ipython3",
   "version": "3.12.5"
  }
 },
 "nbformat": 4,
 "nbformat_minor": 5
}
